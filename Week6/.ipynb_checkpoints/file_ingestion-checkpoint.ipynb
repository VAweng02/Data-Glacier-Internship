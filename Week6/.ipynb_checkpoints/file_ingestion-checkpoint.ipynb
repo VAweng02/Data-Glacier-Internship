{
 "cells": [
  {
   "cell_type": "code",
   "execution_count": 2,
   "id": "6949eb3a",
   "metadata": {},
   "outputs": [
    {
     "name": "stdout",
     "output_type": "stream",
     "text": [
      "Time taken by Pandas: 67.16664600372314 seconds\n",
      "Time taken by Dask: 38.2489709854126 seconds\n"
     ]
    },
    {
     "name": "stderr",
     "output_type": "stream",
     "text": [
      "UserWarning: Ray execution environment not yet initialized. Initializing...\n",
      "To remove this warning, run the following python code before doing dataframe operations:\n",
      "\n",
      "    import ray\n",
      "    ray.init(runtime_env={'env_vars': {'__MODIN_AUTOIMPORT_PANDAS__': '1'}})\n",
      "\n",
      "2023-04-08 16:52:34,839\tINFO worker.py:1553 -- Started a local Ray instance.\n",
      "\u001b[2m\u001b[33m(raylet)\u001b[0m /Library/Frameworks/Python.framework/Versions/3.10/lib/python3.10/site-packages/ray/dashboard/agent.py:51: DeprecationWarning: There is no current event loop\n",
      "\u001b[2m\u001b[33m(raylet)\u001b[0m   aiogrpc.init_grpc_aio()\n"
     ]
    },
    {
     "name": "stdout",
     "output_type": "stream",
     "text": [
      "Time taken by Modin: 52.69988822937012 seconds\n"
     ]
    },
    {
     "data": {
      "text/plain": [
       "'\\n# Method 4: Ray\\nstart_time = time.time()\\ndf_ray = rd.read_csv(file_path)\\ndf_ray.to_pandas()\\nend_time = time.time()\\ntime_ray = end_time - start_time\\nprint(\"Time taken by Ray:\", time_ray, \"seconds\")\\n'"
      ]
     },
     "execution_count": 2,
     "metadata": {},
     "output_type": "execute_result"
    },
    {
     "name": "stderr",
     "output_type": "stream",
     "text": [
      "\u001b[2m\u001b[36m(raylet)\u001b[0m Spilled 2057 MiB, 16 objects, write throughput 263 MiB/s. Set RAY_verbose_spill_logs=0 to disable this message.\n"
     ]
    }
   ],
   "source": [
    "import time\n",
    "import pandas as pd\n",
    "import dask.dataframe as dd\n",
    "import modin.pandas as mpd\n",
    "# import ray.dataframe as rd\n",
    "\n",
    "file_path = '/Users/vaweng02/Desktop/Combined_Flights_2021.csv'\n",
    "\n",
    "# Method 1: Pandas\n",
    "start_time = time.time()\n",
    "df_pandas = pd.read_csv(file_path)\n",
    "end_time = time.time()\n",
    "time_pandas = end_time - start_time\n",
    "print(\"Time taken by Pandas:\", time_pandas, \"seconds\")\n",
    "\n",
    "# Method 2: Dask\n",
    "start_time = time.time()\n",
    "df_dask = dd.read_csv(file_path)\n",
    "df_dask.compute()\n",
    "end_time = time.time()\n",
    "time_dask = end_time - start_time\n",
    "print(\"Time taken by Dask:\", time_dask, \"seconds\")\n",
    "\n",
    "# Method 3: Modin\n",
    "start_time = time.time()\n",
    "df_modin = mpd.read_csv(file_path)\n",
    "end_time = time.time()\n",
    "time_modin = end_time - start_time\n",
    "print(\"Time taken by Modin:\", time_modin, \"seconds\")\n",
    "\n",
    "'''\n",
    "# Method 4: Ray\n",
    "start_time = time.time()\n",
    "df_ray = rd.read_csv(file_path)\n",
    "df_ray.to_pandas()\n",
    "end_time = time.time()\n",
    "time_ray = end_time - start_time\n",
    "print(\"Time taken by Ray:\", time_ray, \"seconds\")\n",
    "'''"
   ]
  }
 ],
 "metadata": {
  "kernelspec": {
   "display_name": "Python 3 (ipykernel)",
   "language": "python",
   "name": "python3"
  },
  "language_info": {
   "codemirror_mode": {
    "name": "ipython",
    "version": 3
   },
   "file_extension": ".py",
   "mimetype": "text/x-python",
   "name": "python",
   "nbconvert_exporter": "python",
   "pygments_lexer": "ipython3",
   "version": "3.10.7"
  }
 },
 "nbformat": 4,
 "nbformat_minor": 5
}
