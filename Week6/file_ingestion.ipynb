{
 "cells": [
  {
   "cell_type": "code",
   "execution_count": 16,
   "id": "6949eb3a",
   "metadata": {},
   "outputs": [],
   "source": [
    "import time\n",
    "import pandas as pd\n",
    "import dask.dataframe as dd\n",
    "import modin.pandas as mpd\n",
    "import yaml\n",
    "import os"
   ]
  },
  {
   "cell_type": "code",
   "execution_count": 3,
   "id": "a549554b",
   "metadata": {},
   "outputs": [
    {
     "name": "stdout",
     "output_type": "stream",
     "text": [
      "Time taken by Pandas: 61.989914894104004 seconds\n",
      "Time taken by Dask: 34.21029996871948 seconds\n"
     ]
    },
    {
     "name": "stderr",
     "output_type": "stream",
     "text": [
      "UserWarning: Ray execution environment not yet initialized. Initializing...\n",
      "To remove this warning, run the following python code before doing dataframe operations:\n",
      "\n",
      "    import ray\n",
      "    ray.init(runtime_env={'env_vars': {'__MODIN_AUTOIMPORT_PANDAS__': '1'}})\n",
      "\n",
      "2023-04-09 20:40:06,367\tINFO worker.py:1553 -- Started a local Ray instance.\n",
      "\u001b[2m\u001b[33m(raylet)\u001b[0m /Library/Frameworks/Python.framework/Versions/3.10/lib/python3.10/site-packages/ray/dashboard/agent.py:51: DeprecationWarning: There is no current event loop\n",
      "\u001b[2m\u001b[33m(raylet)\u001b[0m   aiogrpc.init_grpc_aio()\n"
     ]
    },
    {
     "name": "stdout",
     "output_type": "stream",
     "text": [
      "Time taken by Modin: 47.518561124801636 seconds\n"
     ]
    },
    {
     "name": "stderr",
     "output_type": "stream",
     "text": [
      "\u001b[2m\u001b[36m(raylet)\u001b[0m Spilled 2057 MiB, 16 objects, write throughput 294 MiB/s. Set RAY_verbose_spill_logs=0 to disable this message.\n"
     ]
    }
   ],
   "source": [
    "file_path = '/Users/vaweng02/Desktop/Combined_Flights_2021.csv'\n",
    "\n",
    "# Method 1: Pandas\n",
    "start_time = time.time()\n",
    "df_pandas = pd.read_csv(file_path)\n",
    "end_time = time.time()\n",
    "time_pandas = end_time - start_time\n",
    "print(\"Time taken by Pandas:\", time_pandas, \"seconds\")\n",
    "\n",
    "# Method 2: Dask\n",
    "start_time = time.time()\n",
    "df_dask = dd.read_csv(file_path)\n",
    "df_dask.compute()\n",
    "end_time = time.time()\n",
    "time_dask = end_time - start_time\n",
    "print(\"Time taken by Dask:\", time_dask, \"seconds\")\n",
    "\n",
    "# Method 3: Modin\n",
    "start_time = time.time()\n",
    "df_modin = mpd.read_csv(file_path)\n",
    "end_time = time.time()\n",
    "time_modin = end_time - start_time\n",
    "print(\"Time taken by Modin:\", time_modin, \"seconds\")\n",
    "\n",
    "# Conclusion: Dask showed the fastest computational speed"
   ]
  },
  {
   "cell_type": "code",
   "execution_count": 6,
   "id": "b467fede",
   "metadata": {},
   "outputs": [
    {
     "name": "stderr",
     "output_type": "stream",
     "text": [
      "FutureWarning: The default value of regex will change from True to False in a future version.\n"
     ]
    }
   ],
   "source": [
    "# Perform basic validation on data columns\n",
    "\n",
    "df = pd.read_csv(file_path)\n",
    "\n",
    "# remove special characters from column names\n",
    "df.columns = df.columns.str.replace('[^a-zA-Z0-9]+', '_')\n",
    "\n",
    "# remove whitespaces from column names\n",
    "df.columns = df.columns.str.strip().str.lower()\n",
    "\n",
    "# check for missing values in each column\n",
    "missing_values = df.isnull().sum()\n",
    "\n",
    "# check for duplicates\n",
    "duplicates = df[df.duplicated()]"
   ]
  },
  {
   "cell_type": "code",
   "execution_count": 7,
   "id": "cf45f867",
   "metadata": {
    "scrolled": true
   },
   "outputs": [
    {
     "name": "stdout",
     "output_type": "stream",
     "text": [
      "['flightdate', 'airline', 'origin', 'dest', 'cancelled', 'diverted', 'crsdeptime', 'deptime', 'depdelayminutes', 'depdelay', 'arrtime', 'arrdelayminutes', 'airtime', 'crselapsedtime', 'actualelapsedtime', 'distance', 'year', 'quarter', 'month', 'dayofmonth', 'dayofweek', 'marketing_airline_network', 'operated_or_branded_code_share_partners', 'dot_id_marketing_airline', 'iata_code_marketing_airline', 'flight_number_marketing_airline', 'operating_airline', 'dot_id_operating_airline', 'iata_code_operating_airline', 'tail_number', 'flight_number_operating_airline', 'originairportid', 'originairportseqid', 'origincitymarketid', 'origincityname', 'originstate', 'originstatefips', 'originstatename', 'originwac', 'destairportid', 'destairportseqid', 'destcitymarketid', 'destcityname', 'deststate', 'deststatefips', 'deststatename', 'destwac', 'depdel15', 'departuredelaygroups', 'deptimeblk', 'taxiout', 'wheelsoff', 'wheelson', 'taxiin', 'crsarrtime', 'arrdelay', 'arrdel15', 'arrivaldelaygroups', 'arrtimeblk', 'distancegroup', 'divairportlandings']\n"
     ]
    }
   ],
   "source": [
    "# get all columns\n",
    "all_cols = df.columns.tolist()\n",
    "\n",
    "# print the columns\n",
    "print(all_cols)"
   ]
  },
  {
   "cell_type": "code",
   "execution_count": 12,
   "id": "15bcd8a7",
   "metadata": {},
   "outputs": [],
   "source": [
    "# Validating number of columns and column name of ingested file with YAML.\n",
    "\n",
    "import yaml\n",
    "\n",
    "with open('file.yaml', 'r') as f:\n",
    "    schema = yaml.safe_load(f)\n",
    "\n",
    "if 'columns' not in schema:\n",
    "    print(\"Error: Invalid schema file. 'columns' key is missing.\")\n",
    "elif not isinstance(schema['columns'], list):\n",
    "    print(\"Error: Invalid schema file. 'columns' value should be a list.\")\n",
    "else:\n",
    "    if len(df.columns) != len(schema['columns']):\n",
    "        print(\"Error: Number of columns in the file doesn't match the schema.\")\n",
    "    else:\n",
    "        for i, col in enumerate(df.columns):\n",
    "            if col != schema['columns'][i]:\n",
    "                print(f\"Error: Column {i+1} doesn't match the schema.\")"
   ]
  },
  {
   "cell_type": "code",
   "execution_count": 17,
   "id": "250eeac3",
   "metadata": {},
   "outputs": [],
   "source": [
    "subset_df = df.iloc[:1000]  # selecting the first 1000 rows, since full size is taking too long to compute\n",
    "subset_df.to_csv('output_file.csv.gz', sep='|', compression='gzip', index=False)"
   ]
  },
  {
   "cell_type": "code",
   "execution_count": 18,
   "id": "eb3c244f",
   "metadata": {},
   "outputs": [
    {
     "name": "stdout",
     "output_type": "stream",
     "text": [
      "Total number of rows: 6311871\n",
      "Total number of columns: 61\n",
      "File size: 57758 bytes\n"
     ]
    }
   ],
   "source": [
    "# get the file size\n",
    "file_size = os.path.getsize('output_file.csv.gz')\n",
    "\n",
    "# get the total number of rows and columns\n",
    "num_rows = len(df)\n",
    "num_cols = len(df.columns)\n",
    "\n",
    "# print the summary\n",
    "print(f\"Total number of rows: {num_rows}\")\n",
    "print(f\"Total number of columns: {num_cols}\")\n",
    "print(f\"File size: {file_size} bytes\")"
   ]
  }
 ],
 "metadata": {
  "kernelspec": {
   "display_name": "Python 3 (ipykernel)",
   "language": "python",
   "name": "python3"
  },
  "language_info": {
   "codemirror_mode": {
    "name": "ipython",
    "version": 3
   },
   "file_extension": ".py",
   "mimetype": "text/x-python",
   "name": "python",
   "nbconvert_exporter": "python",
   "pygments_lexer": "ipython3",
   "version": "3.10.7"
  }
 },
 "nbformat": 4,
 "nbformat_minor": 5
}
